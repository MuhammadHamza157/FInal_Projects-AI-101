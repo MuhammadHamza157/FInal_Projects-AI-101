{
 "cells": [
  {
   "cell_type": "code",
   "execution_count": 4,
   "metadata": {},
   "outputs": [
    {
     "name": "stdout",
     "output_type": "stream",
     "text": [
      "Your Generated Password is : *G)]48F4)0^z \n"
     ]
    }
   ],
   "source": [
    "import string\n",
    "import random\n",
    "\n",
    "#Ask user for length of password\n",
    "password_length = int (input(\"Enter the length of password\"))\n",
    "\n",
    "password=[]\n",
    "\n",
    "\n",
    "for i in range(password_length):\n",
    "   \n",
    "   alphabets = random.choice(string.ascii_letters)     # alphabets generation\n",
    "   \n",
    "   numbers = random.choice(string.digits)              # numeric generaion from 0 to 9\n",
    "   \n",
    "   special_char = random.choice(string.punctuation)    #special character genertor\n",
    "   \n",
    "   password.append(special_char)                       #Appending in string\n",
    "   password.append(alphabets)\n",
    "   password.append(numbers)              \n",
    "\n",
    "\n",
    "random.shuffle(password)                              # for shuffling of charcters\n",
    "\n",
    "password = \"\".join(password)                          # for joing a string into a letter etc\n",
    "\n",
    "print(f\"Your Generated Password is : {password[0:password_length]} \")\n",
    "\n",
    "\n",
    "\n"
   ]
  }
 ],
 "metadata": {
  "kernelspec": {
   "display_name": "Python 3",
   "language": "python",
   "name": "python3"
  },
  "language_info": {
   "codemirror_mode": {
    "name": "ipython",
    "version": 3
   },
   "file_extension": ".py",
   "mimetype": "text/x-python",
   "name": "python",
   "nbconvert_exporter": "python",
   "pygments_lexer": "ipython3",
   "version": "3.12.8"
  }
 },
 "nbformat": 4,
 "nbformat_minor": 2
}
