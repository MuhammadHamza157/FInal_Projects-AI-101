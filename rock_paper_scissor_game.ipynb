{
 "cells": [
  {
   "cell_type": "code",
   "execution_count": 1,
   "metadata": {},
   "outputs": [
    {
     "name": "stdout",
     "output_type": "stream",
     "text": [
      "\n",
      "                 \n",
      "                 'Computer Win'\n",
      "\n",
      "\n",
      "            Computer Entry = p\n",
      "            Your Entry = r\n"
     ]
    }
   ],
   "source": [
    "import random\n",
    "try:\n",
    "   user = input(\"\"\"\n",
    "             Enter r for ROCK                \n",
    "             Enter p for Paper\n",
    "             Enter s for Scissor\n",
    "             \"\"\").lower()                     #input from user\n",
    "   \n",
    "   if user not in['r','p','s']:\n",
    "        raise ValueError\n",
    "   \n",
    "   computer = random.choice(['r','p','s'])    # random entry generation form comp\n",
    "\n",
    "\n",
    "     \n",
    "   if (user == \"r\" and computer ==\"s\") or \\\n",
    "      (user == \"s\" and computer ==\"p\") or \\\n",
    "      (user == \"p\" and computer ==\"r\"):\n",
    "          print(f\"\"\"\n",
    "                    'Congratulations: YOU WIN...'\\n\\n \n",
    "           Computer Entry = {computer}\n",
    "           Your Entry = {user}\"\"\")\n",
    "   elif user == computer:\n",
    "        print(f\"\"\"\n",
    "                  'Its a Tie'\\n\\n\n",
    "          Computer Entry = {computer}\n",
    "          Your Entry = {user}\"\"\")\n",
    "   else:     \n",
    "        print(f\"\"\"\n",
    "                 \n",
    "                 'Computer Win'\\n\\n\n",
    "            Computer Entry = {computer}\n",
    "            Your Entry = {user}\"\"\")\n",
    "except ValueError:\n",
    "     print(\"invalid Entry\")\n",
    "     \n"
   ]
  }
 ],
 "metadata": {
  "kernelspec": {
   "display_name": "Python 3",
   "language": "python",
   "name": "python3"
  },
  "language_info": {
   "codemirror_mode": {
    "name": "ipython",
    "version": 3
   },
   "file_extension": ".py",
   "mimetype": "text/x-python",
   "name": "python",
   "nbconvert_exporter": "python",
   "pygments_lexer": "ipython3",
   "version": "3.12.8"
  }
 },
 "nbformat": 4,
 "nbformat_minor": 2
}
