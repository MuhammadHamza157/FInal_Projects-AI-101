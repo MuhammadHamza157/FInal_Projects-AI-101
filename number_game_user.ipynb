{
 "cells": [
  {
   "cell_type": "code",
   "execution_count": 3,
   "metadata": {},
   "outputs": [
    {
     "name": "stdout",
     "output_type": "stream",
     "text": [
      "USER 2  Turn:   \n",
      "\n",
      "Too low, Try a Higher Value...  \n",
      "\n",
      "Too low, Try a Higher Value...  \n",
      "\n",
      "\n",
      " *****    Hurrah, the number is matched\n",
      " the computer number was 69 too****  \n",
      "Your total number of attempts were:   3\n"
     ]
    }
   ],
   "source": [
    "#import random library\n",
    "import random\n",
    "try:   #try-except is used to prevent the program crashing\n",
    "        #if the userenter a non integer entry\n",
    "  count = 1\n",
    "  user1_input = int(input(\"User 1 Choose a number between '1 to 100' :  \"))  #randint is used to geenerate random integers\n",
    "  print(\"USER 2  Turn:   \")\n",
    "  user2_input = 0\n",
    "  while not user2_input == user1_input:\n",
    "  \n",
    "   user2_input = int(input(\"Enter a number between 1 to 100: \"))\n",
    "   if user2_input < user1_input:\n",
    "      print(\"\\nToo low, Try a Higher Value...  \")\n",
    "      count= count+1\n",
    "   elif user2_input > user1_input:    \n",
    "      print(\"\\nToo high, Try a lower value..  \")\n",
    "      count= count+1\n",
    "   elif user2_input == user1_input: \n",
    "      print(f\"\\n\\n *****    Hurrah, the number is matched\\n the computer number was {user1_input} too****  \")  \n",
    "\n",
    "  print(\"Your total number of attempts were:  \",count)     \n",
    "except ValueError:\n",
    "     print(\"Enter valid value\")"
   ]
  }
 ],
 "metadata": {
  "kernelspec": {
   "display_name": "Python 3",
   "language": "python",
   "name": "python3"
  },
  "language_info": {
   "codemirror_mode": {
    "name": "ipython",
    "version": 3
   },
   "file_extension": ".py",
   "mimetype": "text/x-python",
   "name": "python",
   "nbconvert_exporter": "python",
   "pygments_lexer": "ipython3",
   "version": "3.12.8"
  }
 },
 "nbformat": 4,
 "nbformat_minor": 2
}
