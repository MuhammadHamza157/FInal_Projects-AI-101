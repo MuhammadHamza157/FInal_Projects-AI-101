{
 "cells": [
  {
   "cell_type": "code",
   "execution_count": 1,
   "metadata": {},
   "outputs": [
    {
     "name": "stdout",
     "output_type": "stream",
     "text": [
      "\n",
      "Too high, Try a lower number...\n",
      "\n",
      "Too high, Try a lower number...\n",
      "\n",
      "Too low, Try a higher number...\n",
      "\n",
      "Too high, Try a lower number...\n",
      "\n",
      "Too high, Try a lower number...\n",
      "\n",
      "Too high, Try a lower number...\n",
      "\n",
      "Too high, Try a lower number...\n",
      "\n",
      "Too high, Try a lower number...\n",
      "\n",
      "Too high, Try a lower number...\n",
      "\n",
      "Too high, Try a lower number...\n",
      "\n",
      "Too high, Try a lower number...\n",
      "\n",
      "Too low, Try a higher number...\n",
      "\n",
      "Too low, Try a higher number...\n",
      "\n",
      "Too high, Try a lower number...\n",
      "\n",
      "Too high, Try a lower number...\n",
      "\n",
      "Too high, Try a lower number...\n",
      "\n",
      "\n",
      "*********   Hurrah, Your number is matched\n",
      " the computer number was 41 too.************* \n",
      "\n",
      "\n",
      "Your Total Ateempts were:  16\n"
     ]
    }
   ],
   "source": [
    "#import random library\n",
    "import random\n",
    "\n",
    "\n",
    "count =0\n",
    "user_input = 0\n",
    "r = random.randint(1,100)  #randint is used to geenerate random integers\n",
    "try:   #try-except is used to prevent the program crashing\n",
    "        #if the userenter a non integer entry\n",
    "  while not user_input == r:\n",
    "   user_input = int(input(\"Enter a number between 1 to 100:  \"))\n",
    "   if user_input< r:\n",
    "    print(\"\\nToo low, Try a higher number...\")\n",
    "    count= count+1\n",
    "   elif user_input> r:    \n",
    "    print(\"\\nToo high, Try a lower number...\")\n",
    "    count= count+1\n",
    "   elif user_input == r: \n",
    "    print(f\"\\n\\n*********   Hurrah, Your number is matched\\n the computer number was {r} too.************* \")  \n",
    "\n",
    "  print(\"\\n\\nYour Total Ateempts were: \",count)     \n",
    "except ValueError:\n",
    "     print(\"Enter valid value\")\n"
   ]
  }
 ],
 "metadata": {
  "kernelspec": {
   "display_name": "Python 3",
   "language": "python",
   "name": "python3"
  },
  "language_info": {
   "codemirror_mode": {
    "name": "ipython",
    "version": 3
   },
   "file_extension": ".py",
   "mimetype": "text/x-python",
   "name": "python",
   "nbconvert_exporter": "python",
   "pygments_lexer": "ipython3",
   "version": "3.12.8"
  }
 },
 "nbformat": 4,
 "nbformat_minor": 2
}
