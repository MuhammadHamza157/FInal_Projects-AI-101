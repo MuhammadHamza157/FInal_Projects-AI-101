{
 "cells": [
  {
   "cell_type": "code",
   "execution_count": null,
   "metadata": {},
   "outputs": [],
   "source": [
    "import random\n",
    "import string\n",
    "\n",
    "\n",
    "actual_word =[\"Apple\", \"Banana\", \"Apricot\",\"Guava\",\"KIWI\",\"PoMergranate\",\"kiwi\",\"oranges\",\"Peach\", \"Pinapple\"] \n",
    "\n",
    "def hangman():\n",
    "  lives = 6\n",
    "  random_word =random.choice( actual_word).upper()  #uppercase words\n",
    "\n",
    "  letters_of_word = set(random_word)  # this will turn the word in set of words\n",
    "\n",
    "  uppercase_alphabets = set(string.ascii_uppercase)    # alphabets in upper case\n",
    "\n",
    "  used_letters = set()    #an empty set for letters we will use \n",
    "\n",
    "  while len(letters_of_word) >  0  and lives > 0:\n",
    "  \n",
    "   \n",
    "       word_list = []\n",
    "       for letter in random_word:\n",
    "           if letter in used_letters:\n",
    "              word_list.append(letter)\n",
    "           else:\n",
    "              word_list.append(\" _ \")   \n",
    "\n",
    "   \n",
    "       print(\"      \\t\\t\\t                 Current word: \", \" \".join(word_list))\n",
    "       print(\"\\nYou have used these letters:  \", \" \".join(used_letters), \"\\t\\t and Your lives left = \", lives)\n",
    "       print(\" \\n\" )\n",
    "       guessed_letter = input(\"\\n Enter a letter: \").upper()\n",
    "\n",
    "       if guessed_letter in uppercase_alphabets - used_letters:\n",
    "          used_letters.add(guessed_letter)\n",
    "          if guessed_letter in letters_of_word:\n",
    "             letters_of_word.remove(guessed_letter)\n",
    "          else:\n",
    "             lives -= 1\n",
    "             print(\"\\n Letter is not in the Word, Guess Again\")\n",
    "\n",
    "\n",
    "       elif guessed_letter in used_letters:\n",
    "            print(\"\\n You Already Used this Letter, Try Another Letter\")\n",
    "\n",
    "       else:\n",
    "           print(\"\\n Enter a valid word\")\n",
    "\n",
    "  if lives == 0:\n",
    "     print(\"\\n zt\\t\\t  Sorry You Lose\\n\", \"\\t\\t\\t The Correct Word was:  \", random_word)\n",
    "  else:\n",
    "     print(\"\\n \\t\\t\\t ****Congratulation,  U Guessed the Correct  Word****\\n  The Word was : \",random_word)\n",
    "\n",
    "\n",
    "\n",
    "hangman()\n"
   ]
  }
 ],
 "metadata": {
  "kernelspec": {
   "display_name": "Python 3",
   "language": "python",
   "name": "python3"
  },
  "language_info": {
   "codemirror_mode": {
    "name": "ipython",
    "version": 3
   },
   "file_extension": ".py",
   "mimetype": "text/x-python",
   "name": "python",
   "nbconvert_exporter": "python",
   "pygments_lexer": "ipython3",
   "version": "3.12.8"
  }
 },
 "nbformat": 4,
 "nbformat_minor": 2
}
