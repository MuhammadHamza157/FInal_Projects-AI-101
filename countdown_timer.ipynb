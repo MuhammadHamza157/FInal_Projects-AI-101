{
 "cells": [
  {
   "cell_type": "code",
   "execution_count": 3,
   "metadata": {},
   "outputs": [
    {
     "name": "stdout",
     "output_type": "stream",
     "text": [
      "5 sec\n",
      "4 sec\n",
      "3 sec\n",
      "2 sec\n",
      "1 sec\n",
      "Time's up!\n"
     ]
    }
   ],
   "source": [
    "import time as t\n",
    "\n",
    "def count_down_timer(time):\n",
    "   while time:\n",
    "            if time > 60:\n",
    "                minutes, seconds = divmod(time, 60)  # Convert sec into minutes\n",
    "                timer = f\"{minutes}min:{seconds}sec\"\n",
    "                print(timer)\n",
    "                t.sleep(1)\n",
    "                time -= 1\n",
    "            else:\n",
    "                timer = f\"{time} sec\"\n",
    "                print(timer)\n",
    "                t.sleep(1)\n",
    "                time -= 1\n",
    "            \n",
    "            if time == 0:\n",
    "                print(\"Time's up!\")\n",
    "\n",
    "try:\n",
    "    choice = int(input(\"For MINUTES Enter '1'. \\n\\n For SECONDS Enter '2':\\n \"))\n",
    "    \n",
    "    if choice not in [1, 2]:                                              #if user enter anyother number\n",
    "        raise ValueError(\"Invalid choice. Please enter 1 or 2.\")\n",
    "    \n",
    "    if choice == 1:\n",
    "        user = input(\"Enter time in minutes: \")\n",
    "        if not user.replace('.', '', 1).isdigit():                        # it is checking whether the number is valid or not \n",
    "            raise ValueError(\"Please enter a valid number for minutes.\")\n",
    "        \n",
    "        user = float(user)                                                # Convert to float to handle decimal values if entered\n",
    "        user_min2sec = int(user * 60)                                     # Convert minutes to seconds\n",
    "        count_down_timer(user_min2sec)\n",
    "    \n",
    "    elif choice == 2:\n",
    "        user_time = input(\"Enter time in seconds: \")\n",
    "        if not user_time.isdigit():\n",
    "            raise ValueError(\"Please enter a valid number for seconds.\")\n",
    "        \n",
    "        user_time = int(user_time)  # Convert to int since we're working with seconds\n",
    "        \n",
    "        count_down_timer(user_time)\n",
    "except ValueError as e:\n",
    "     print(f\"Invalid entry: {e}\")\n"
   ]
  }
 ],
 "metadata": {
  "kernelspec": {
   "display_name": "Python 3",
   "language": "python",
   "name": "python3"
  },
  "language_info": {
   "codemirror_mode": {
    "name": "ipython",
    "version": 3
   },
   "file_extension": ".py",
   "mimetype": "text/x-python",
   "name": "python",
   "nbconvert_exporter": "python",
   "pygments_lexer": "ipython3",
   "version": "3.12.8"
  }
 },
 "nbformat": 4,
 "nbformat_minor": 2
}
