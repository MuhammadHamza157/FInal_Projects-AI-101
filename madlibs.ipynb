{
 "cells": [
  {
   "cell_type": "code",
   "execution_count": null,
   "metadata": {},
   "outputs": [],
   "source": [
    "#Mad Libs is a game where you fill in the blanks in a story with\n",
    "#specific types of words (like nouns, verbs, adjectives, etc.)\n",
    "#and the result is often a funny story\n",
    "\n",
    "# print(\"Welcome to a madlib game\\nEnter few entries and enjoy a exciting story \\nbased upon your entries\")\n",
    "\n",
    "def madlib ():\n",
    "    name = input(\"Enter Name of a person: \")\n",
    "   \n",
    "    while True:\n",
    "        try:\n",
    "         time_period = int (input(\"Enter random year: \"))\n",
    "         break\n",
    "        except ValueError: \n",
    "          print(\"Enter correct value\")\n",
    "    while True:\n",
    "        try: \n",
    "         number = int (input (\"enter a height in feet: \"))\n",
    "         break\n",
    "        except ValueError: \n",
    "          print(\"Enter correct value\")\n",
    "\n",
    "    adjective1 = input(\"Enter any Adjective: \")\n",
    "\n",
    "    adjective2 = input(\"Look intresting? Now,\\n Enter any other Adjective: \")\n",
    "\n",
    "    noun1 = input (\" Enter a noun: \")\n",
    "\n",
    "    noun2 = input (\"Enter Another noun: \")\n",
    "\n",
    "   \n",
    "    verb1 = input (\"Feeling curious? just a few steps more: \\n input any verb: \")\n",
    "    verb2 = input (\"input aother verb: \")\n",
    "    location = input (\" Enter any location\")\n",
    "\n",
    "    print(f\"\"\"\n",
    "        One day, {name} invented a time machine and set it to travel to {time_period}.\\n\n",
    "        However, something went wrong, and the machine crashed in a {adjective1} forest.\\n\n",
    "        {name} had to {verb1} quickly to find a {noun1}.Along the way, they encountered \\n\n",
    "        a strange {noun2}, which was {number} feet tall and looked very {adjective2}. \\n\n",
    "        To escape, {name} had to {verb2} through the {location} to make it back to their\\n\n",
    "        own time!\"\"\")\n",
    "   \n",
    "madlib()"
   ]
  }
 ],
 "metadata": {
  "kernelspec": {
   "display_name": "Python 3",
   "language": "python",
   "name": "python3"
  },
  "language_info": {
   "codemirror_mode": {
    "name": "ipython",
    "version": 3
   },
   "file_extension": ".py",
   "mimetype": "text/x-python",
   "name": "python",
   "nbconvert_exporter": "python",
   "pygments_lexer": "ipython3",
   "version": "3.12.8"
  }
 },
 "nbformat": 4,
 "nbformat_minor": 2
}
